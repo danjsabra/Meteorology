{
 "cells": [
  {
   "cell_type": "code",
   "execution_count": 6,
   "metadata": {},
   "outputs": [],
   "source": [
    "import pandas as pd\n",
    "\n",
    "# Load the CSV file into a Pandas DataFrame\n",
    "df = pd.read_csv('DesMoinesGDD.csv', dtype={'temperatures': float})\n",
    "\n",
    "# Convert the 'dates' column to a datetime format\n",
    "df['Date'] = pd.to_datetime(df['Date'])\n",
    "\n",
    "# Set the 'dates' column as the index of the DataFrame\n",
    "df.set_index('Date', inplace=True)\n",
    "\n",
    "# Sort the data set\n",
    "df = df.sort_index()\n",
    "\n",
    "# Compute the rolling average of the temperatures for every 15 days\n",
    "rolling_avg = df.rolling(window='15D').mean()\n",
    "\n",
    "# Reset the index to a standard integer index\n",
    "rolling_avg.reset_index(inplace=True)\n",
    "\n",
    "# Write the rolling average to a new CSV file\n",
    "rolling_avg.to_csv('DesMoinesGDD_rolling_average.csv', index=False)"
   ]
  }
 ],
 "metadata": {
  "kernelspec": {
   "display_name": "Python 3.10.7 64-bit",
   "language": "python",
   "name": "python3"
  },
  "language_info": {
   "codemirror_mode": {
    "name": "ipython",
    "version": 3
   },
   "file_extension": ".py",
   "mimetype": "text/x-python",
   "name": "python",
   "nbconvert_exporter": "python",
   "pygments_lexer": "ipython3",
   "version": "3.10.7"
  },
  "orig_nbformat": 4,
  "vscode": {
   "interpreter": {
    "hash": "aee8b7b246df8f9039afb4144a1f6fd8d2ca17a180786b69acc140d282b71a49"
   }
  }
 },
 "nbformat": 4,
 "nbformat_minor": 2
}
