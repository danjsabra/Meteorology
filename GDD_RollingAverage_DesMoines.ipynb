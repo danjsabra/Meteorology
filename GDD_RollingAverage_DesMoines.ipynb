{
 "cells": [
  {
   "cell_type": "code",
   "execution_count": 4,
   "metadata": {},
   "outputs": [],
   "source": [
    "import pandas as pd\n",
    "\n",
    "# Read in the original CSV file\n",
    "data = pd.read_csv('DesMoinesGDD.csv')\n",
    "\n",
    "# Compute the rolling 15-day SMA of the 'Temperature' column\n",
    "sma = data['Degrees Above 50'].rolling(window=15).mean()\n",
    "\n",
    "# Create a new dataframe with the 'Date' and 'GDD 15 Day SMA' columns\n",
    "new_data = pd.DataFrame({'Date': data['Date'], 'GDD 15 Day SMA': sma})\n",
    "\n",
    "# Write the new dataframe to a CSV file\n",
    "new_data.to_csv('DesMoinesGDD_rolling_average.csv', index=False)"
   ]
  }
 ],
 "metadata": {
  "kernelspec": {
   "display_name": "Python 3.10.7 64-bit",
   "language": "python",
   "name": "python3"
  },
  "language_info": {
   "codemirror_mode": {
    "name": "ipython",
    "version": 3
   },
   "file_extension": ".py",
   "mimetype": "text/x-python",
   "name": "python",
   "nbconvert_exporter": "python",
   "pygments_lexer": "ipython3",
   "version": "3.10.7"
  },
  "orig_nbformat": 4,
  "vscode": {
   "interpreter": {
    "hash": "aee8b7b246df8f9039afb4144a1f6fd8d2ca17a180786b69acc140d282b71a49"
   }
  }
 },
 "nbformat": 4,
 "nbformat_minor": 2
}
