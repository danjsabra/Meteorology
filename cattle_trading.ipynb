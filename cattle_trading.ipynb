{
 "cells": [
  {
   "cell_type": "code",
   "execution_count": 1,
   "metadata": {},
   "outputs": [],
   "source": [
    "import pandas as pd"
   ]
  },
  {
   "cell_type": "code",
   "execution_count": 11,
   "metadata": {},
   "outputs": [],
   "source": [
    "corn = pd.read_excel('commodity_prices.xlsx', sheet_name='C 1 (Corn)')[['Date','Last Price']]\n",
    "feeder_cattle = pd.read_excel('commodity_prices.xlsx', sheet_name='FC1 (Feeder Cattle)')[['Date','Last Price']]\n",
    "live_cattle = pd.read_excel('commodity_prices.xlsx', sheet_name='LC1 (Live Cattle)')[['Date','Last Price']]"
   ]
  },
  {
   "cell_type": "code",
   "execution_count": 14,
   "metadata": {},
   "outputs": [],
   "source": [
    "corn.rename(columns={'Last Price':'Corn'}, inplace=True)\n",
    "feeder_cattle.rename(columns={'Last Price':'Feeder Cattle'}, inplace=True)\n",
    "live_cattle.rename(columns={'Last Price':'Live Cattle'}, inplace=True)"
   ]
  },
  {
   "cell_type": "code",
   "execution_count": 38,
   "metadata": {},
   "outputs": [],
   "source": [
    "def converter(s):\n",
    "    parts = s.split()\n",
    "    integer_part = int(parts[0])\n",
    "    fraction_part = eval(parts[1])\n",
    "    result = integer_part + fraction_part\n",
    "    return result\n",
    "corn['Corn'] = corn['Corn'].apply(lambda x: converter(x) if ' ' in str(x) else x)"
   ]
  },
  {
   "cell_type": "code",
   "execution_count": 39,
   "metadata": {},
   "outputs": [],
   "source": [
    "data = pd.merge(corn, feeder_cattle, on='Date', how='inner')\n",
    "data = pd.merge(data, live_cattle, on='Date', how='inner')"
   ]
  },
  {
   "cell_type": "code",
   "execution_count": 41,
   "metadata": {},
   "outputs": [],
   "source": [
    "data['spread'] = data['Live Cattle'] - data['Feeder Cattle']"
   ]
  },
  {
   "cell_type": "code",
   "execution_count": 44,
   "metadata": {},
   "outputs": [],
   "source": [
    "data['Corn MA'] = data['Corn'].rolling(10).mean()"
   ]
  },
  {
   "cell_type": "code",
   "execution_count": null,
   "metadata": {},
   "outputs": [],
   "source": []
  }
 ],
 "metadata": {
  "kernelspec": {
   "display_name": "Python 3",
   "language": "python",
   "name": "python3"
  },
  "language_info": {
   "codemirror_mode": {
    "name": "ipython",
    "version": 3
   },
   "file_extension": ".py",
   "mimetype": "text/x-python",
   "name": "python",
   "nbconvert_exporter": "python",
   "pygments_lexer": "ipython3",
   "version": "3.9.5"
  },
  "orig_nbformat": 4,
  "vscode": {
   "interpreter": {
    "hash": "aee8b7b246df8f9039afb4144a1f6fd8d2ca17a180786b69acc140d282b71a49"
   }
  }
 },
 "nbformat": 4,
 "nbformat_minor": 2
}
