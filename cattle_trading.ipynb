{
 "cells": [
  {
   "cell_type": "code",
   "execution_count": 82,
   "metadata": {},
   "outputs": [],
   "source": [
    "import pandas as pd"
   ]
  },
  {
   "cell_type": "code",
   "execution_count": 83,
   "metadata": {},
   "outputs": [],
   "source": [
    "corn = pd.read_excel('commodity_prices.xlsx', sheet_name='C 1 (Corn)')[['Date','Last Price']]\n",
    "feeder_cattle = pd.read_excel('commodity_prices.xlsx', sheet_name='FC1 (Feeder Cattle)')[['Date','Last Price']]\n",
    "live_cattle = pd.read_excel('commodity_prices.xlsx', sheet_name='LC1 (Live Cattle)')[['Date','Last Price']]"
   ]
  },
  {
   "cell_type": "code",
   "execution_count": 84,
   "metadata": {},
   "outputs": [],
   "source": [
    "corn.rename(columns={'Last Price':'Corn'}, inplace=True)\n",
    "feeder_cattle.rename(columns={'Last Price':'Feeder Cattle'}, inplace=True)\n",
    "live_cattle.rename(columns={'Last Price':'Live Cattle'}, inplace=True)"
   ]
  },
  {
   "cell_type": "code",
   "execution_count": 85,
   "metadata": {},
   "outputs": [],
   "source": [
    "def converter(s):\n",
    "    parts = s.split()\n",
    "    integer_part = int(parts[0])\n",
    "    fraction_part = eval(parts[1])\n",
    "    result = integer_part + fraction_part\n",
    "    return result\n",
    "corn['Corn'] = corn['Corn'].apply(lambda x: converter(x) if ' ' in str(x) else x)"
   ]
  },
  {
   "cell_type": "code",
   "execution_count": 86,
   "metadata": {},
   "outputs": [],
   "source": [
    "data = pd.merge(corn, feeder_cattle, on='Date', how='inner')\n",
    "data = pd.merge(data, live_cattle, on='Date', how='inner')"
   ]
  },
  {
   "cell_type": "code",
   "execution_count": 87,
   "metadata": {},
   "outputs": [],
   "source": [
    "data = data.iloc[::-1]\n",
    "data.reset_index(drop=True, inplace=True)"
   ]
  },
  {
   "cell_type": "code",
   "execution_count": 88,
   "metadata": {},
   "outputs": [],
   "source": [
    "data['spread'] = data['Live Cattle'] - data['Feeder Cattle']\n",
    "data['Corn MA'] = data['Corn'].rolling(10).mean()\n",
    "data['upper'] = data['Corn MA'] + data['Corn'].rolling(10).std()\n",
    "data['lower'] = data['Corn MA'] - data['Corn'].rolling(10).std()\n",
    "data['correlation'] = data['spread'].rolling(50).corr(data['Corn'])"
   ]
  },
  {
   "cell_type": "code",
   "execution_count": 89,
   "metadata": {},
   "outputs": [],
   "source": [
    "data['signal'] = 0\n",
    "data.loc[data['Corn'] > data['upper'], 'signal'] = 1\n",
    "data.loc[data['Corn'] < data['lower'], 'signal'] = -1\n",
    "data.loc[data['correlation'] < 0.5, 'signal'] = 0\n",
    "data['signal'] = data['signal'].shift(1)"
   ]
  },
  {
   "cell_type": "code",
   "execution_count": 90,
   "metadata": {},
   "outputs": [],
   "source": [
    "data['returns'] = data['spread'].pct_change()\n",
    "data['cumulative returns'] = (data['returns'] + 1).cumprod()\n",
    "data['signal returns'] = data['returns'] * data['signal']\n",
    "data['cumulative signal returns'] = (data['signal returns'] + 1).cumprod()"
   ]
  },
  {
   "cell_type": "code",
   "execution_count": 91,
   "metadata": {},
   "outputs": [
    {
     "data": {
      "text/html": [
       "<div>\n",
       "<style scoped>\n",
       "    .dataframe tbody tr th:only-of-type {\n",
       "        vertical-align: middle;\n",
       "    }\n",
       "\n",
       "    .dataframe tbody tr th {\n",
       "        vertical-align: top;\n",
       "    }\n",
       "\n",
       "    .dataframe thead th {\n",
       "        text-align: right;\n",
       "    }\n",
       "</style>\n",
       "<table border=\"1\" class=\"dataframe\">\n",
       "  <thead>\n",
       "    <tr style=\"text-align: right;\">\n",
       "      <th></th>\n",
       "      <th>Date</th>\n",
       "      <th>Corn</th>\n",
       "      <th>Feeder Cattle</th>\n",
       "      <th>Live Cattle</th>\n",
       "      <th>spread</th>\n",
       "      <th>Corn MA</th>\n",
       "      <th>upper</th>\n",
       "      <th>lower</th>\n",
       "      <th>correlation</th>\n",
       "      <th>signal</th>\n",
       "      <th>returns</th>\n",
       "      <th>cumulative returns</th>\n",
       "      <th>signal returns</th>\n",
       "      <th>cumulative signal returns</th>\n",
       "    </tr>\n",
       "  </thead>\n",
       "  <tbody>\n",
       "    <tr>\n",
       "      <th>0</th>\n",
       "      <td>2016-02-01</td>\n",
       "      <td>371.25</td>\n",
       "      <td>157.775</td>\n",
       "      <td>135.675</td>\n",
       "      <td>-22.100</td>\n",
       "      <td>NaN</td>\n",
       "      <td>NaN</td>\n",
       "      <td>NaN</td>\n",
       "      <td>NaN</td>\n",
       "      <td>NaN</td>\n",
       "      <td>NaN</td>\n",
       "      <td>NaN</td>\n",
       "      <td>NaN</td>\n",
       "      <td>NaN</td>\n",
       "    </tr>\n",
       "    <tr>\n",
       "      <th>1</th>\n",
       "      <td>2016-02-02</td>\n",
       "      <td>372.50</td>\n",
       "      <td>157.850</td>\n",
       "      <td>135.725</td>\n",
       "      <td>-22.125</td>\n",
       "      <td>NaN</td>\n",
       "      <td>NaN</td>\n",
       "      <td>NaN</td>\n",
       "      <td>NaN</td>\n",
       "      <td>0.0</td>\n",
       "      <td>0.001131</td>\n",
       "      <td>1.001131</td>\n",
       "      <td>0.0</td>\n",
       "      <td>1.0</td>\n",
       "    </tr>\n",
       "    <tr>\n",
       "      <th>2</th>\n",
       "      <td>2016-02-03</td>\n",
       "      <td>371.00</td>\n",
       "      <td>157.950</td>\n",
       "      <td>136.850</td>\n",
       "      <td>-21.100</td>\n",
       "      <td>NaN</td>\n",
       "      <td>NaN</td>\n",
       "      <td>NaN</td>\n",
       "      <td>NaN</td>\n",
       "      <td>0.0</td>\n",
       "      <td>-0.046328</td>\n",
       "      <td>0.954751</td>\n",
       "      <td>-0.0</td>\n",
       "      <td>1.0</td>\n",
       "    </tr>\n",
       "    <tr>\n",
       "      <th>3</th>\n",
       "      <td>2016-02-04</td>\n",
       "      <td>368.50</td>\n",
       "      <td>156.525</td>\n",
       "      <td>137.075</td>\n",
       "      <td>-19.450</td>\n",
       "      <td>NaN</td>\n",
       "      <td>NaN</td>\n",
       "      <td>NaN</td>\n",
       "      <td>NaN</td>\n",
       "      <td>0.0</td>\n",
       "      <td>-0.078199</td>\n",
       "      <td>0.880090</td>\n",
       "      <td>-0.0</td>\n",
       "      <td>1.0</td>\n",
       "    </tr>\n",
       "    <tr>\n",
       "      <th>4</th>\n",
       "      <td>2016-02-05</td>\n",
       "      <td>365.75</td>\n",
       "      <td>153.825</td>\n",
       "      <td>136.050</td>\n",
       "      <td>-17.775</td>\n",
       "      <td>NaN</td>\n",
       "      <td>NaN</td>\n",
       "      <td>NaN</td>\n",
       "      <td>NaN</td>\n",
       "      <td>0.0</td>\n",
       "      <td>-0.086118</td>\n",
       "      <td>0.804299</td>\n",
       "      <td>-0.0</td>\n",
       "      <td>1.0</td>\n",
       "    </tr>\n",
       "  </tbody>\n",
       "</table>\n",
       "</div>"
      ],
      "text/plain": [
       "        Date    Corn  Feeder Cattle  Live Cattle  spread  Corn MA  upper  \\\n",
       "0 2016-02-01  371.25        157.775      135.675 -22.100      NaN    NaN   \n",
       "1 2016-02-02  372.50        157.850      135.725 -22.125      NaN    NaN   \n",
       "2 2016-02-03  371.00        157.950      136.850 -21.100      NaN    NaN   \n",
       "3 2016-02-04  368.50        156.525      137.075 -19.450      NaN    NaN   \n",
       "4 2016-02-05  365.75        153.825      136.050 -17.775      NaN    NaN   \n",
       "\n",
       "   lower  correlation  signal   returns  cumulative returns  signal returns  \\\n",
       "0    NaN          NaN     NaN       NaN                 NaN             NaN   \n",
       "1    NaN          NaN     0.0  0.001131            1.001131             0.0   \n",
       "2    NaN          NaN     0.0 -0.046328            0.954751            -0.0   \n",
       "3    NaN          NaN     0.0 -0.078199            0.880090            -0.0   \n",
       "4    NaN          NaN     0.0 -0.086118            0.804299            -0.0   \n",
       "\n",
       "   cumulative signal returns  \n",
       "0                        NaN  \n",
       "1                        1.0  \n",
       "2                        1.0  \n",
       "3                        1.0  \n",
       "4                        1.0  "
      ]
     },
     "execution_count": 91,
     "metadata": {},
     "output_type": "execute_result"
    }
   ],
   "source": [
    "# plot cum returns and signal cum returns with date as x-axis\n",
    "data.head()"
   ]
  },
  {
   "cell_type": "code",
   "execution_count": 96,
   "metadata": {},
   "outputs": [
    {
     "data": {
      "text/plain": [
       "Timestamp('2023-02-23 00:00:00')"
      ]
     },
     "execution_count": 96,
     "metadata": {},
     "output_type": "execute_result"
    }
   ],
   "source": [
    "list(data['Date'])[-1]"
   ]
  },
  {
   "cell_type": "code",
   "execution_count": 101,
   "metadata": {},
   "outputs": [
    {
     "name": "stdout",
     "output_type": "stream",
     "text": [
      "[*********************100%***********************]  1 of 1 completed\n"
     ]
    }
   ],
   "source": [
    "# pull sp500 data for same timeframe in existing data using yfinance\n",
    "import yfinance as yf\n",
    "sp500 = yf.download('^GSPC', start=list(data['Date'])[0], end=list(data['Date'])[-1])\n",
    "sp500['returns'] = sp500['Adj Close'].pct_change()\n",
    "sp500['SP500 cumulative returns'] = (sp500['returns'] + 1).cumprod()"
   ]
  },
  {
   "cell_type": "code",
   "execution_count": 110,
   "metadata": {},
   "outputs": [],
   "source": [
    "# make a new column in sp500 that we can use to merge with date column in data\n",
    "sp500['Date'] = sp500.index\n",
    "# convert these values to same format as date column in data\n",
    "sp500.reset_index(drop=True, inplace=True)\n",
    "# add sp500 cumulative returns to data usign concat\n",
    "data = pd.concat([data, sp500['SP500 cumulative returns']], axis=1)"
   ]
  },
  {
   "cell_type": "code",
   "execution_count": 111,
   "metadata": {},
   "outputs": [
    {
     "data": {
      "text/plain": [
       "<AxesSubplot: xlabel='Date'>"
      ]
     },
     "execution_count": 111,
     "metadata": {},
     "output_type": "execute_result"
    },
    {
     "data": {
      "image/png": "[encoded data removed]",
      "text/plain": [
       "<Figure size 640x480 with 1 Axes>"
      ]
     },
     "metadata": {},
     "output_type": "display_data"
    }
   ],
   "source": [
    "data.plot(x='Date', y=['cumulative returns', 'cumulative signal returns','SP500 cumulative returns'])"
   ]
  }
 ],
 "metadata": {
  "kernelspec": {
   "display_name": "Python 3",
   "language": "python",
   "name": "python3"
  },
  "language_info": {
   "codemirror_mode": {
    "name": "ipython",
    "version": 3
   },
   "file_extension": ".py",
   "mimetype": "text/x-python",
   "name": "python",
   "nbconvert_exporter": "python",
   "pygments_lexer": "ipython3",
   "version": "3.9.5"
  },
  "orig_nbformat": 4,
  "vscode": {
   "interpreter": {
    "hash": "aee8b7b246df8f9039afb4144a1f6fd8d2ca17a180786b69acc140d282b71a49"
   }
  }
 },
 "nbformat": 4,
 "nbformat_minor": 2
}
