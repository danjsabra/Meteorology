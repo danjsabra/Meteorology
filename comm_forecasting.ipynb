{
 "cells": [
  {
   "cell_type": "code",
   "execution_count": 8,
   "metadata": {},
   "outputs": [],
   "source": [
    "import pandas as pd \n",
    "import numpy as np\n",
    "import os\n",
    "import matplotlib.pyplot as plt\n",
    "import datetime"
   ]
  },
  {
   "cell_type": "code",
   "execution_count": 84,
   "metadata": {},
   "outputs": [],
   "source": [
    "gdd = pd.read_csv(\"DesMoines_GDD_PredictedGDD.csv\")\n",
    "corn = pd.read_excel(\"commodity_prices.xlsx\", sheet_name=\"C 1 (Corn)\")\n",
    "soy = pd.read_excel(\"commodity_prices.xlsx\", sheet_name=\"S 1 (Soy)\")"
   ]
  },
  {
   "cell_type": "code",
   "execution_count": 85,
   "metadata": {},
   "outputs": [],
   "source": [
    "gdd = gdd.rename({\"Date\" : \"date\", \"Degrees Above 50\" : \"actual_gdd\", \"Predicted GDD\" : \"pred_gdd\"}, axis=1)\n",
    "corn = corn.rename({\"Date\" : \"date\", \"Last Price\" : \"corn_price\"}, axis=1)\n",
    "soy = soy.rename({\"Date\" : \"date\", \"Last Price\" : \"soy_price\"}, axis=1)    \n",
    "corn = corn.drop([\"SMAVG (15)\", \"Open Interest\"], axis=1)\n",
    "soy = soy.drop([\"SMAVG (15)\", \"Open Interest\"], axis=1)"
   ]
  },
  {
   "cell_type": "code",
   "execution_count": 86,
   "metadata": {},
   "outputs": [],
   "source": [
    "def converter(s):\n",
    "    parts = s.split()\n",
    "    integer_part = int(parts[0])\n",
    "    fraction_part = eval(parts[1])\n",
    "    result = integer_part + fraction_part\n",
    "    return result\n",
    "corn['corn_price'] = corn['corn_price'].apply(lambda x: converter(x) if ' ' in str(x) else x)\n",
    "soy['soy_price'] = soy['soy_price'].apply(lambda x: converter(x) if ' ' in str(x) else x)\n"
   ]
  },
  {
   "cell_type": "code",
   "execution_count": 98,
   "metadata": {},
   "outputs": [
    {
     "data": {
      "text/plain": [
       "[5, 6, 7, 8, 9]"
      ]
     },
     "execution_count": 98,
     "metadata": {},
     "output_type": "execute_result"
    }
   ],
   "source": [
    "[x for x in range(5, 10)]"
   ]
  },
  {
   "cell_type": "code",
   "execution_count": 99,
   "metadata": {},
   "outputs": [],
   "source": [
    "def clean_dates(df):\n",
    "    GROWING_MONTHS = [x for x in range(5, 10)] #may-sept\n",
    "    df[\"date\"] = pd.to_datetime(df[\"date\"])\n",
    "    df[\"month\"] = df[\"date\"].dt.month\n",
    "    df = df.loc[df[\"month\"].isin(GROWING_MONTHS)]\n",
    "    df = df.drop([\"month\"], axis=1)\n",
    "    return df\n",
    "\n",
    "\n",
    "gdd = clean_dates(gdd)\n",
    "corn = clean_dates(corn)\n",
    "soy = clean_dates(soy)"
   ]
  },
  {
   "cell_type": "code",
   "execution_count": 100,
   "metadata": {},
   "outputs": [],
   "source": [
    "gdd[\"deviation\"] = gdd[\"actual_gdd\"] - gdd[\"pred_gdd\"]\n",
    "data = pd.merge(corn, soy, on='date', how='inner')\n",
    "data = pd.merge(data, gdd, on='date', how='inner')"
   ]
  },
  {
   "cell_type": "code",
   "execution_count": 101,
   "metadata": {},
   "outputs": [
    {
     "data": {
      "text/html": [
       "<div>\n",
       "<style scoped>\n",
       "    .dataframe tbody tr th:only-of-type {\n",
       "        vertical-align: middle;\n",
       "    }\n",
       "\n",
       "    .dataframe tbody tr th {\n",
       "        vertical-align: top;\n",
       "    }\n",
       "\n",
       "    .dataframe thead th {\n",
       "        text-align: right;\n",
       "    }\n",
       "</style>\n",
       "<table border=\"1\" class=\"dataframe\">\n",
       "  <thead>\n",
       "    <tr style=\"text-align: right;\">\n",
       "      <th></th>\n",
       "      <th>date</th>\n",
       "      <th>corn_price</th>\n",
       "      <th>soy_price</th>\n",
       "      <th>actual_gdd</th>\n",
       "      <th>pred_gdd</th>\n",
       "      <th>deviation</th>\n",
       "    </tr>\n",
       "  </thead>\n",
       "  <tbody>\n",
       "    <tr>\n",
       "      <th>0</th>\n",
       "      <td>2022-09-30</td>\n",
       "      <td>677.50</td>\n",
       "      <td>1364.75</td>\n",
       "      <td>9.5</td>\n",
       "      <td>14.9</td>\n",
       "      <td>-5.4</td>\n",
       "    </tr>\n",
       "    <tr>\n",
       "      <th>1</th>\n",
       "      <td>2022-09-29</td>\n",
       "      <td>669.50</td>\n",
       "      <td>1410.75</td>\n",
       "      <td>6.0</td>\n",
       "      <td>16.0</td>\n",
       "      <td>-10.0</td>\n",
       "    </tr>\n",
       "    <tr>\n",
       "      <th>2</th>\n",
       "      <td>2022-09-28</td>\n",
       "      <td>670.50</td>\n",
       "      <td>1408.75</td>\n",
       "      <td>2.0</td>\n",
       "      <td>16.9</td>\n",
       "      <td>-14.9</td>\n",
       "    </tr>\n",
       "    <tr>\n",
       "      <th>3</th>\n",
       "      <td>2022-09-27</td>\n",
       "      <td>667.50</td>\n",
       "      <td>1408.00</td>\n",
       "      <td>8.5</td>\n",
       "      <td>17.1</td>\n",
       "      <td>-8.6</td>\n",
       "    </tr>\n",
       "    <tr>\n",
       "      <th>4</th>\n",
       "      <td>2022-09-26</td>\n",
       "      <td>666.25</td>\n",
       "      <td>1411.25</td>\n",
       "      <td>8.0</td>\n",
       "      <td>17.4</td>\n",
       "      <td>-9.4</td>\n",
       "    </tr>\n",
       "    <tr>\n",
       "      <th>...</th>\n",
       "      <td>...</td>\n",
       "      <td>...</td>\n",
       "      <td>...</td>\n",
       "      <td>...</td>\n",
       "      <td>...</td>\n",
       "      <td>...</td>\n",
       "    </tr>\n",
       "    <tr>\n",
       "      <th>742</th>\n",
       "      <td>2016-05-06</td>\n",
       "      <td>376.00</td>\n",
       "      <td>1026.25</td>\n",
       "      <td>18.5</td>\n",
       "      <td>6.0</td>\n",
       "      <td>12.5</td>\n",
       "    </tr>\n",
       "    <tr>\n",
       "      <th>743</th>\n",
       "      <td>2016-05-05</td>\n",
       "      <td>371.75</td>\n",
       "      <td>1003.50</td>\n",
       "      <td>8.0</td>\n",
       "      <td>6.0</td>\n",
       "      <td>2.0</td>\n",
       "    </tr>\n",
       "    <tr>\n",
       "      <th>744</th>\n",
       "      <td>2016-05-04</td>\n",
       "      <td>373.25</td>\n",
       "      <td>1024.50</td>\n",
       "      <td>9.0</td>\n",
       "      <td>5.9</td>\n",
       "      <td>3.1</td>\n",
       "    </tr>\n",
       "    <tr>\n",
       "      <th>745</th>\n",
       "      <td>2016-05-03</td>\n",
       "      <td>378.25</td>\n",
       "      <td>1021.50</td>\n",
       "      <td>7.0</td>\n",
       "      <td>6.5</td>\n",
       "      <td>0.5</td>\n",
       "    </tr>\n",
       "    <tr>\n",
       "      <th>746</th>\n",
       "      <td>2016-05-02</td>\n",
       "      <td>390.25</td>\n",
       "      <td>1035.50</td>\n",
       "      <td>3.0</td>\n",
       "      <td>0.0</td>\n",
       "      <td>3.0</td>\n",
       "    </tr>\n",
       "  </tbody>\n",
       "</table>\n",
       "<p>747 rows × 6 columns</p>\n",
       "</div>"
      ],
      "text/plain": [
       "          date  corn_price  soy_price  actual_gdd  pred_gdd  deviation\n",
       "0   2022-09-30      677.50    1364.75         9.5      14.9       -5.4\n",
       "1   2022-09-29      669.50    1410.75         6.0      16.0      -10.0\n",
       "2   2022-09-28      670.50    1408.75         2.0      16.9      -14.9\n",
       "3   2022-09-27      667.50    1408.00         8.5      17.1       -8.6\n",
       "4   2022-09-26      666.25    1411.25         8.0      17.4       -9.4\n",
       "..         ...         ...        ...         ...       ...        ...\n",
       "742 2016-05-06      376.00    1026.25        18.5       6.0       12.5\n",
       "743 2016-05-05      371.75    1003.50         8.0       6.0        2.0\n",
       "744 2016-05-04      373.25    1024.50         9.0       5.9        3.1\n",
       "745 2016-05-03      378.25    1021.50         7.0       6.5        0.5\n",
       "746 2016-05-02      390.25    1035.50         3.0       0.0        3.0\n",
       "\n",
       "[747 rows x 6 columns]"
      ]
     },
     "execution_count": 101,
     "metadata": {},
     "output_type": "execute_result"
    }
   ],
   "source": [
    "# data"
   ]
  },
  {
   "cell_type": "code",
   "execution_count": 128,
   "metadata": {},
   "outputs": [],
   "source": [
    "\n",
    "# fuck it better GDD data\n",
    "\n",
    "iowa = pd.read_csv('36 month Degree day/KDSM_CDD_50F.csv')\n",
    "iowa = iowa.drop([iowa.columns[2]], axis=1)\n",
    "iowa[\"Date\"] = pd.to_datetime(iowa[\"Date\"])\n",
    "iowa[\"Month\"] = iowa[\"Date\"].dt.month\n",
    "iowa = iowa.loc[iowa[\"Month\"].isin([5,6,7,8,9])]\n",
    "iowa = iowa.drop([\"Month\"], axis=1)\n",
    "iowa = iowa.rename({\"Date\" : \"date\"}, axis=1)\n",
    "iowa[\"CDD 50\"] = iowa[\"CDD 50\"].clip(0, 36)\n"
   ]
  },
  {
   "cell_type": "code",
   "execution_count": 129,
   "metadata": {},
   "outputs": [],
   "source": [
    "iowa_merged = pd.merge(iowa, soy, on='date', how='inner')\n",
    "iowa_merged = pd.merge(iowa_merged, corn, on='date', how='inner')"
   ]
  },
  {
   "cell_type": "code",
   "execution_count": 137,
   "metadata": {},
   "outputs": [
    {
     "data": {
      "text/html": [
       "<div>\n",
       "<style scoped>\n",
       "    .dataframe tbody tr th:only-of-type {\n",
       "        vertical-align: middle;\n",
       "    }\n",
       "\n",
       "    .dataframe tbody tr th {\n",
       "        vertical-align: top;\n",
       "    }\n",
       "\n",
       "    .dataframe thead th {\n",
       "        text-align: right;\n",
       "    }\n",
       "</style>\n",
       "<table border=\"1\" class=\"dataframe\">\n",
       "  <thead>\n",
       "    <tr style=\"text-align: right;\">\n",
       "      <th></th>\n",
       "      <th>date</th>\n",
       "      <th>CDD 50</th>\n",
       "    </tr>\n",
       "  </thead>\n",
       "  <tbody>\n",
       "    <tr>\n",
       "      <th>90</th>\n",
       "      <td>2020-05-01</td>\n",
       "      <td>15.0</td>\n",
       "    </tr>\n",
       "    <tr>\n",
       "      <th>91</th>\n",
       "      <td>2020-05-02</td>\n",
       "      <td>14.6</td>\n",
       "    </tr>\n",
       "    <tr>\n",
       "      <th>92</th>\n",
       "      <td>2020-05-03</td>\n",
       "      <td>13.2</td>\n",
       "    </tr>\n",
       "    <tr>\n",
       "      <th>93</th>\n",
       "      <td>2020-05-04</td>\n",
       "      <td>3.8</td>\n",
       "    </tr>\n",
       "    <tr>\n",
       "      <th>94</th>\n",
       "      <td>2020-05-05</td>\n",
       "      <td>0.0</td>\n",
       "    </tr>\n",
       "    <tr>\n",
       "      <th>...</th>\n",
       "      <td>...</td>\n",
       "      <td>...</td>\n",
       "    </tr>\n",
       "    <tr>\n",
       "      <th>968</th>\n",
       "      <td>2022-09-26</td>\n",
       "      <td>8.6</td>\n",
       "    </tr>\n",
       "    <tr>\n",
       "      <th>969</th>\n",
       "      <td>2022-09-27</td>\n",
       "      <td>8.4</td>\n",
       "    </tr>\n",
       "    <tr>\n",
       "      <th>970</th>\n",
       "      <td>2022-09-28</td>\n",
       "      <td>4.1</td>\n",
       "    </tr>\n",
       "    <tr>\n",
       "      <th>971</th>\n",
       "      <td>2022-09-29</td>\n",
       "      <td>7.2</td>\n",
       "    </tr>\n",
       "    <tr>\n",
       "      <th>972</th>\n",
       "      <td>2022-09-30</td>\n",
       "      <td>9.9</td>\n",
       "    </tr>\n",
       "  </tbody>\n",
       "</table>\n",
       "<p>459 rows × 2 columns</p>\n",
       "</div>"
      ],
      "text/plain": [
       "          date  CDD 50\n",
       "90  2020-05-01    15.0\n",
       "91  2020-05-02    14.6\n",
       "92  2020-05-03    13.2\n",
       "93  2020-05-04     3.8\n",
       "94  2020-05-05     0.0\n",
       "..         ...     ...\n",
       "968 2022-09-26     8.6\n",
       "969 2022-09-27     8.4\n",
       "970 2022-09-28     4.1\n",
       "971 2022-09-29     7.2\n",
       "972 2022-09-30     9.9\n",
       "\n",
       "[459 rows x 2 columns]"
      ]
     },
     "execution_count": 137,
     "metadata": {},
     "output_type": "execute_result"
    }
   ],
   "source": [
    "iowa"
   ]
  },
  {
   "cell_type": "code",
   "execution_count": 144,
   "metadata": {},
   "outputs": [
    {
     "name": "stdout",
     "output_type": "stream",
     "text": [
      "corn: -0.1259934325900962\n",
      "soy: -0.1444090111455984\n",
      "soy +1: -0.17916077381077894\n",
      "corn +1: -0.16897991129414996\n",
      "soy +2: -0.1309001966887292\n",
      "corn +2: -0.13504602441691493\n"
     ]
    }
   ],
   "source": [
    "# print(\"corn:\", iowa_merged[\"CDD 50\"].diff().corr(iowa_merged[\"corn_price\"].diff()))\n",
    "# print(\"soy:\", iowa_merged[\"CDD 50\"].diff().corr(iowa_merged[\"soy_price\"].diff()))\n",
    "\n",
    "print(\"corn:\", iowa_merged[\"CDD 50\"].corr(iowa_merged[\"corn_price\"].diff()))\n",
    "print(\"soy:\", iowa_merged[\"CDD 50\"].corr(iowa_merged[\"soy_price\"].diff()))\n",
    "\n",
    "print(\"soy +1:\", iowa_merged[\"CDD 50\"].shift(-1).corr(iowa_merged[\"soy_price\"].diff()))\n",
    "print(\"corn +1:\", iowa_merged[\"CDD 50\"].shift(-1).corr(iowa_merged[\"corn_price\"].diff()))\n",
    "\n",
    "print(\"soy +2:\", iowa_merged[\"CDD 50\"].shift(-2).corr(iowa_merged[\"soy_price\"].diff()))\n",
    "print(\"corn +2:\", iowa_merged[\"CDD 50\"].shift(-2).corr(iowa_merged[\"corn_price\"].diff()))\n",
    "\n",
    "\n",
    "# soyboys for lyfe"
   ]
  },
  {
   "cell_type": "code",
   "execution_count": null,
   "metadata": {},
   "outputs": [],
   "source": []
  }
 ],
 "metadata": {
  "kernelspec": {
   "display_name": "Python 3",
   "language": "python",
   "name": "python3"
  },
  "language_info": {
   "codemirror_mode": {
    "name": "ipython",
    "version": 3
   },
   "file_extension": ".py",
   "mimetype": "text/x-python",
   "name": "python",
   "nbconvert_exporter": "python",
   "pygments_lexer": "ipython3",
   "version": "3.11.1"
  },
  "orig_nbformat": 4,
  "vscode": {
   "interpreter": {
    "hash": "5c7b89af1651d0b8571dde13640ecdccf7d5a6204171d6ab33e7c296e100e08a"
   }
  }
 },
 "nbformat": 4,
 "nbformat_minor": 2
}
