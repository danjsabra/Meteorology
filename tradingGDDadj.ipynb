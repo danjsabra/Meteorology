{
 "cells": [
  {
   "cell_type": "code",
   "execution_count": 2,
   "metadata": {},
   "outputs": [],
   "source": [
    "import pandas as pd\n",
    "import datetime as dt\n",
    "from datetime import datetime\n",
    "import time\n",
    "import matplotlib.pyplot as plt"
   ]
  },
  {
   "cell_type": "code",
   "execution_count": 126,
   "metadata": {},
   "outputs": [],
   "source": [
    "df = pd.read_csv('DesMoines_GDD_PredictedGDD.csv')\n",
    "\n",
    "product = \"soy\"\n",
    "COMMODITIES = {\"soy\" : \"S 1 (Soy)\", \"corn\" : \"C 1 (Corn)\"}\n",
    "\n",
    "real_gdd = pd.read_csv('36 month Degree day/KDSM_CDD_50F.csv')\n",
    "real_gdd = real_gdd.drop([real_gdd.columns[2]], axis=1)\n",
    "real_gdd[\"Date\"] = pd.to_datetime(real_gdd[\"Date\"])\n",
    "real_gdd[\"CDD 50\"] = real_gdd[\"CDD 50\"].clip(0, 36)\n",
    "\n",
    "def convert_date_string(date_str):\n",
    "    time_struct = time.strptime(date_str, '%m/%d/%y')\n",
    "    dt_obj = datetime(*time_struct[:6])\n",
    "    new_date_str = dt_obj.strftime('%m/%d/%y')\n",
    "    return new_date_str\n",
    "df['Date'] = df['Date'].apply(lambda x: convert_date_string(x))\n",
    "corn = pd.read_excel('commodity_prices.xlsx', sheet_name=COMMODITIES[product])[['Date','Last Price']]\n",
    "# corn = pd.read_excel('commodity_prices.xlsx', sheet_name='S 1 (Soy)')[['Date','Last Price']]\n",
    "\n",
    "corn.rename(columns={'Last Price':'Corn'}, inplace=True)\n",
    "def converter(s):\n",
    "    parts = s.split()\n",
    "    integer_part = int(parts[0])\n",
    "    fraction_part = eval(parts[1])\n",
    "    result = integer_part + fraction_part\n",
    "    return result\n",
    "corn['Corn'] = corn['Corn'].apply(lambda x: converter(x) if ' ' in str(x) else x)\n",
    "corn['Date'] = corn['Date'].apply(lambda x: str(x))\n",
    "def convert_date_string(date_str):\n",
    "    dt_obj = dt.datetime.strptime(date_str, '%Y-%m-%d %H:%M:%S')\n",
    "    new_date_str = dt_obj.strftime('%m/%d/%y')\n",
    "    return new_date_str\n",
    "corn['Date'] = corn['Date'].apply(lambda x: convert_date_string(x))\n",
    "\n",
    "df = pd.merge(df, corn, on='Date', how='inner')\n",
    "df[\"Date\"] = pd.to_datetime(df['Date'])\n",
    "df = pd.merge(df, real_gdd, on='Date', how='inner')\n",
    "df[\"CDD 50\"] = df[\"CDD 50\"].shift(1)\n"
   ]
  },
  {
   "cell_type": "code",
   "execution_count": 72,
   "metadata": {},
   "outputs": [
    {
     "data": {
      "text/html": [
       "<div>\n",
       "<style scoped>\n",
       "    .dataframe tbody tr th:only-of-type {\n",
       "        vertical-align: middle;\n",
       "    }\n",
       "\n",
       "    .dataframe tbody tr th {\n",
       "        vertical-align: top;\n",
       "    }\n",
       "\n",
       "    .dataframe thead th {\n",
       "        text-align: right;\n",
       "    }\n",
       "</style>\n",
       "<table border=\"1\" class=\"dataframe\">\n",
       "  <thead>\n",
       "    <tr style=\"text-align: right;\">\n",
       "      <th></th>\n",
       "      <th>Date</th>\n",
       "      <th>Degrees Above 50</th>\n",
       "      <th>Predicted GDD</th>\n",
       "      <th>Corn</th>\n",
       "      <th>CDD 50</th>\n",
       "    </tr>\n",
       "  </thead>\n",
       "  <tbody>\n",
       "    <tr>\n",
       "      <th>0</th>\n",
       "      <td>2020-02-03</td>\n",
       "      <td>0.0</td>\n",
       "      <td>0.0</td>\n",
       "      <td>877.00</td>\n",
       "      <td>NaN</td>\n",
       "    </tr>\n",
       "    <tr>\n",
       "      <th>1</th>\n",
       "      <td>2020-02-04</td>\n",
       "      <td>0.0</td>\n",
       "      <td>0.0</td>\n",
       "      <td>879.50</td>\n",
       "      <td>0.0</td>\n",
       "    </tr>\n",
       "    <tr>\n",
       "      <th>2</th>\n",
       "      <td>2020-02-05</td>\n",
       "      <td>0.0</td>\n",
       "      <td>0.0</td>\n",
       "      <td>880.00</td>\n",
       "      <td>0.0</td>\n",
       "    </tr>\n",
       "    <tr>\n",
       "      <th>3</th>\n",
       "      <td>2020-02-06</td>\n",
       "      <td>0.0</td>\n",
       "      <td>0.0</td>\n",
       "      <td>881.00</td>\n",
       "      <td>0.0</td>\n",
       "    </tr>\n",
       "    <tr>\n",
       "      <th>4</th>\n",
       "      <td>2020-02-07</td>\n",
       "      <td>0.0</td>\n",
       "      <td>0.0</td>\n",
       "      <td>882.00</td>\n",
       "      <td>0.0</td>\n",
       "    </tr>\n",
       "    <tr>\n",
       "      <th>...</th>\n",
       "      <td>...</td>\n",
       "      <td>...</td>\n",
       "      <td>...</td>\n",
       "      <td>...</td>\n",
       "      <td>...</td>\n",
       "    </tr>\n",
       "    <tr>\n",
       "      <th>767</th>\n",
       "      <td>2023-02-15</td>\n",
       "      <td>0.0</td>\n",
       "      <td>0.0</td>\n",
       "      <td>1525.75</td>\n",
       "      <td>0.0</td>\n",
       "    </tr>\n",
       "    <tr>\n",
       "      <th>768</th>\n",
       "      <td>2023-02-16</td>\n",
       "      <td>0.0</td>\n",
       "      <td>0.0</td>\n",
       "      <td>1526.50</td>\n",
       "      <td>0.0</td>\n",
       "    </tr>\n",
       "    <tr>\n",
       "      <th>769</th>\n",
       "      <td>2023-02-17</td>\n",
       "      <td>0.0</td>\n",
       "      <td>0.0</td>\n",
       "      <td>1527.25</td>\n",
       "      <td>0.0</td>\n",
       "    </tr>\n",
       "    <tr>\n",
       "      <th>770</th>\n",
       "      <td>2023-02-21</td>\n",
       "      <td>0.0</td>\n",
       "      <td>0.0</td>\n",
       "      <td>1548.75</td>\n",
       "      <td>0.0</td>\n",
       "    </tr>\n",
       "    <tr>\n",
       "      <th>771</th>\n",
       "      <td>2023-02-22</td>\n",
       "      <td>0.0</td>\n",
       "      <td>0.0</td>\n",
       "      <td>1539.50</td>\n",
       "      <td>0.0</td>\n",
       "    </tr>\n",
       "  </tbody>\n",
       "</table>\n",
       "<p>772 rows × 5 columns</p>\n",
       "</div>"
      ],
      "text/plain": [
       "          Date  Degrees Above 50  Predicted GDD     Corn  CDD 50\n",
       "0   2020-02-03               0.0            0.0   877.00     NaN\n",
       "1   2020-02-04               0.0            0.0   879.50     0.0\n",
       "2   2020-02-05               0.0            0.0   880.00     0.0\n",
       "3   2020-02-06               0.0            0.0   881.00     0.0\n",
       "4   2020-02-07               0.0            0.0   882.00     0.0\n",
       "..         ...               ...            ...      ...     ...\n",
       "767 2023-02-15               0.0            0.0  1525.75     0.0\n",
       "768 2023-02-16               0.0            0.0  1526.50     0.0\n",
       "769 2023-02-17               0.0            0.0  1527.25     0.0\n",
       "770 2023-02-21               0.0            0.0  1548.75     0.0\n",
       "771 2023-02-22               0.0            0.0  1539.50     0.0\n",
       "\n",
       "[772 rows x 5 columns]"
      ]
     },
     "execution_count": 72,
     "metadata": {},
     "output_type": "execute_result"
    }
   ],
   "source": [
    "df"
   ]
  },
  {
   "cell_type": "code",
   "execution_count": 127,
   "metadata": {},
   "outputs": [],
   "source": [
    "df['Corn_returns'] = df['Corn'].pct_change()\n",
    "df['Corn_cumulative_returns'] = (1 + df['Corn_returns']).cumprod()\n",
    "def trader(MA_window,stds,corr_window,corr_threshold,df=df):\n",
    "    # df['Predicted_GDD_MA'] = df['Predicted GDD'].rolling(MA_window).mean()\n",
    "    # df[\"Month\"] = df[\"Date\"].dt.month;\n",
    "    # df = df.loc[df[\"Month\"].isin([5,6,7,8,9])]\n",
    "    # df.drop([\"Month\"], axis=1, inplace=True)\n",
    "\n",
    "\n",
    "    df['Predicted_GDD_MA'] = (df['CDD 50'].rolling(MA_window - 1).sum() + df['Predicted GDD']) / MA_window\n",
    "    df['upper'] = df['Predicted_GDD_MA'] + stds * df['CDD 50'].rolling(MA_window).std()\n",
    "    df['lower'] = df['Predicted_GDD_MA'] - stds * df['CDD 50'].rolling(MA_window).std()\n",
    "    df['correlation'] = df['Corn_returns'].rolling(corr_window).corr(df['Predicted GDD'])\n",
    "    df['signal'] = 0\n",
    "    df.loc[df['Predicted GDD'] > df['upper'], 'signal'] = -1\n",
    "    df.loc[df['Predicted GDD'] < df['lower'], 'signal'] = 1\n",
    "    df.loc[abs(df['correlation']) < abs(corr_threshold), 'signal'] = 0\n",
    "    df['signal'] = df['signal'].shift(1)\n",
    "    df['signal returns'] = df['signal'] * df['Corn_returns']\n",
    "    df['signal cumulative returns'] = (1 + df['signal returns']).cumprod()  \n",
    "    # return df\n",
    "    # return df[['Corn_cumulative_returns', 'signal cumulative returns']].plot()\n",
    "    return list(df['signal cumulative returns'])[-1]"
   ]
  },
  {
   "cell_type": "code",
   "execution_count": 153,
   "metadata": {},
   "outputs": [],
   "source": [
    "MAs = [x*5 for x in range(1,21)]\n",
    "stds = [.1,.25,.5,.75,1,1.25,1.5,1.75,2,2.25,2.5,2.75,3]\n",
    "corr_windows = [5,10,15,20,25,30,35,40,45,50]\n",
    "corr_thresholds = [-.75, -.5,-.25,-.1,0,.1,.25,.5,.75]\n",
    "# try every combination of parameters to return the best combination\n",
    "best = 0\n",
    "res = []\n",
    "# try every combination of parameters to return the best combination\n",
    "best = 0\n",
    "for MA in MAs:\n",
    "    for std in stds:\n",
    "        for corr_window in corr_windows:\n",
    "            for corr_threshold in corr_thresholds:\n",
    "                result = trader(MA,std,corr_window,corr_threshold)\n",
    "                if result > best:\n",
    "                    best = result\n",
    "                    best_params = [MA,std,corr_window,corr_threshold]\n",
    "# for MA in MAs:\n",
    "#     result = trader(int(MA),0.1,int(MA),-0.5)\n",
    "#     res.append([MA, result])"
   ]
  },
  {
   "cell_type": "code",
   "execution_count": null,
   "metadata": {},
   "outputs": [],
   "source": [
    "plt.plot([x[0] for x in res], [x[1] for x in res])\n",
    "plt.plot([x[0] for x in res], [1.779538 for x in res])\n",
    "ax = plt.gca()\n",
    "_ = ax.legend([\"window sizes\", f\"long {product}\"])\n",
    "_ = ax.set_xlabel(\"window size\")\n",
    "_ = ax.set_ylabel(\"total return\")\n"
   ]
  },
  {
   "cell_type": "code",
   "execution_count": 154,
   "metadata": {},
   "outputs": [
    {
     "data": {
      "text/plain": [
       "[100, 0.25, 10, -0.1]"
      ]
     },
     "execution_count": 154,
     "metadata": {},
     "output_type": "execute_result"
    }
   ],
   "source": [
    "best_params\n",
    "\n"
   ]
  },
  {
   "cell_type": "code",
   "execution_count": 155,
   "metadata": {},
   "outputs": [
    {
     "name": "stdout",
     "output_type": "stream",
     "text": [
      "Date                         2023-02-22 00:00:00\n",
      "Degrees Above 50                             0.0\n",
      "Predicted GDD                                0.0\n",
      "Corn                                      1539.5\n",
      "CDD 50                                       0.0\n",
      "Corn_returns                           -0.005973\n",
      "Corn_cumulative_returns                 1.755416\n",
      "Predicted_GDD_MA                           2.114\n",
      "upper                                   3.180071\n",
      "lower                                   1.047929\n",
      "correlation                                  NaN\n",
      "signal                                       1.0\n",
      "signal returns                         -0.005973\n",
      "signal cumulative returns               2.827485\n",
      "Name: 771, dtype: object\n",
      "(555, 14)\n"
     ]
    },
    {
     "data": {
      "image/png": "[encoded data removed]",
      "text/plain": [
       "<Figure size 640x480 with 1 Axes>"
      ]
     },
     "metadata": {},
     "output_type": "display_data"
    }
   ],
   "source": [
    "trader(MA_window=100,stds=.25,corr_window=10,corr_threshold=-0.1)\n",
    "# trader(MA_window=100,stds=0.1,corr_window=30,corr_threshold=-0.1)\n",
    "\n",
    "graph = plt.plot(df[\"Date\"], df[['Corn_cumulative_returns', 'signal cumulative returns']])\n",
    "ax = plt.gca()\n",
    "_ = ax.legend([f\"long {product}\", \"long signal\"])\n",
    "# _ = ax.set_xticks(ax.get_xticks()[::182])\n",
    "_ = plt.xticks(rotation=45)\n",
    "print(df.iloc[-1])\n",
    "print(df.loc[df[\"signal\"] != 0].shape)\n",
    "# df.shape\n"
   ]
  },
  {
   "cell_type": "code",
   "execution_count": null,
   "metadata": {},
   "outputs": [],
   "source": []
  }
 ],
 "metadata": {
  "kernelspec": {
   "display_name": "Python 3",
   "language": "python",
   "name": "python3"
  },
  "language_info": {
   "codemirror_mode": {
    "name": "ipython",
    "version": 3
   },
   "file_extension": ".py",
   "mimetype": "text/x-python",
   "name": "python",
   "nbconvert_exporter": "python",
   "pygments_lexer": "ipython3",
   "version": "3.11.1"
  },
  "orig_nbformat": 4,
  "vscode": {
   "interpreter": {
    "hash": "5c7b89af1651d0b8571dde13640ecdccf7d5a6204171d6ab33e7c296e100e08a"
   }
  }
 },
 "nbformat": 4,
 "nbformat_minor": 2
}
